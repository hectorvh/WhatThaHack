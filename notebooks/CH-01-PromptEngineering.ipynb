{
 "cells": [
  {
   "cell_type": "markdown",
   "metadata": {
    "nteract": {
     "transient": {
      "deleting": false
     }
    }
   },
   "source": [
    "# Reto 01 - Prompt Engineering"
   ]
  },
  {
   "cell_type": "markdown",
   "metadata": {
    "nteract": {
     "transient": {
      "deleting": false
     }
    }
   },
   "source": [
    "Consejo rápido: Para ver la Tabla de Contenidos de este Notebook en VS Code, en la pestaña \"Explorer\", expande la sección \"Outline\"."
   ]
  },
  {
   "cell_type": "markdown",
   "metadata": {
    "nteract": {
     "transient": {
      "deleting": false
     }
    }
   },
   "source": [
    "## 1. Experimentación de Parámetros\n",
    "Primero configuraremos el Desafío. Carga la clave API y las bibliotecas de Python relevantes utilizando las celdas a continuación."
   ]
  },
  {
   "cell_type": "markdown",
   "metadata": {
    "nteract": {
     "transient": {
      "deleting": false
     }
    }
   },
   "source": [
    "### 1.1 Preparación\n",
    "#### 1.1.1 Configuración del Entorno\n"
   ]
  },
  {
   "cell_type": "markdown",
   "metadata": {
    "nteract": {
     "transient": {
      "deleting": false
     }
    }
   },
   "source": [
    "#### Crea o actualiza el archivo de entorno llamado \".env\"\n",
    "Hemos incluido un archivo de entorno de ejemplo para tu referencia. Puedes encontrar el archivo `.env.sample` en la raiz de este repositorio o en la carpeta `Student/Resources` dentro de la documentación del desafío. Siéntete libre de hacer las modificaciones necesarias y renombra el archivo como `.env`.\n",
    "\n",
    "**NOTA:** Asegúrate de mantener el nombre de cada modelo igual al nombre de implementación del modelo que configuraste en Azure OpenAI.\n",
    "\n",
    "**NOTA:** Ten en cuenta que algunos modelos de AOAI podrían estar obsoletos. Deberías crear los que estén disponibles según sea necesario. Para completar este primer desafío, gpt-35-turbo es el único modelo que necesitas.\n",
    "\n",
    "Para obtener información sobre los modelos actuales, consulta: [Modelos del Servicio Azure OpenAI Service](https://learn.microsoft.com/es-mx/azure/ai-services/openai/concepts/models)"
   ]
  },
  {
   "cell_type": "markdown",
   "metadata": {
    "nteract": {
     "transient": {
      "deleting": false
     }
    }
   },
   "source": [
    "####  Configuración del Entorno de Azure OpenAI"
   ]
  },
  {
   "cell_type": "code",
   "execution_count": 1,
   "metadata": {
    "gather": {
     "logged": 1686932813309
    },
    "jupyter": {
     "outputs_hidden": false,
     "source_hidden": false
    },
    "nteract": {
     "transient": {
      "deleting": false
     }
    }
   },
   "outputs": [
    {
     "data": {
      "text/plain": [
       "True"
      ]
     },
     "execution_count": 1,
     "metadata": {},
     "output_type": "execute_result"
    }
   ],
   "source": [
    "import openai\n",
    "import os\n",
    "import json\n",
    "from dotenv import load_dotenv, find_dotenv\n",
    "load_dotenv(find_dotenv())"
   ]
  },
  {
   "cell_type": "code",
   "execution_count": 2,
   "metadata": {
    "gather": {
     "logged": 1686933122347
    },
    "jupyter": {
     "outputs_hidden": false,
     "source_hidden": false
    },
    "nteract": {
     "transient": {
      "deleting": false
     }
    }
   },
   "outputs": [],
   "source": [
    "API_KEY = os.getenv(\"OPENAI_API_KEY\")\n",
    "assert API_KEY, \"ERROR: Azure OpenAI Key is missing\"\n",
    "openai.api_key = API_KEY\n",
    "\n",
    "RESOURCE_ENDPOINT = os.getenv(\"OPENAI_API_BASE\",\"\").strip()\n",
    "assert RESOURCE_ENDPOINT, \"ERROR: Azure OpenAI Endpoint is missing\"\n",
    "assert \"openai.azure.com\" in RESOURCE_ENDPOINT.lower(), \"ERROR: Azure OpenAI Endpoint should be in the form: \\n\\n\\t<your unique endpoint identifier>.openai.azure.com\"\n",
    "\n",
    "openai.api_base = RESOURCE_ENDPOINT\n",
    "openai.api_type = os.getenv(\"OPENAI_API_TYPE\")\n",
    "openai.api_version = os.getenv(\"OPENAI_API_VERSION\")\n",
    "\n",
    "chat_model=os.getenv(\"CHAT_MODEL_NAME\")\n"
   ]
  },
  {
   "cell_type": "markdown",
   "metadata": {
    "nteract": {
     "transient": {
      "deleting": false
     }
    }
   },
   "source": [
    "#### 1.1.2 Explicación de Parámetros\n",
    "Especificamos los hiperparámetros para los modelos de Azure OpenAI dentro de las funciones de ayuda. Los usuarios pueden ajustar los parámetros según sus necesidades.\n",
    "\n",
    "\n",
    "###### **Temperatura**\n",
    "La temperatura varía de 0 a 2. Aquí tienes un desglose rápido de cómo funciona:\n",
    "- Temperatura baja (0 a 0.3): Salidas más enfocadas, coherentes y conservadoras.\n",
    "- Temperatura media (0.3 a 0.7): Creatividad y coherencia equilibradas.\n",
    "- Alta temperatura (> 0.7): Altamente creativa y diversa, pero potencialmente menos coherente.\n",
    "\n",
    "###### **Top_p**\n",
    "Establece el límite de probabilidad para el muestreo de tokens, afectando la amplitud de opciones que considera la IA. Valores más altos conducen a más aleatoriedad, mientras que valores más bajos resultan en salidas más enfocadas.\n",
    "\n",
    "\n",
    "El parámetro \"top_p\" actúa como un filtro que controla cuántas palabras o frases diferentes considera el modelo de lenguaje cuando intenta predecir la siguiente palabra. Si configuras el valor de \"top p\" a 0.5, el modelo de lenguaje solo considerará las 50 palabras o frases más probables que podrían seguir. Pero si configuras el valor de \"top p\" a 0.9, el modelo de lenguaje considerará las 90 palabras o frases más probables.\n",
    "\n",
    "Dado que \"top_p\" y \"temperatura\" realizan trabajos similares como hiperparámetros, usualmente solo ajustamos uno de ellos en lugar de ambos al mismo tiempo.\n",
    "\n",
    "###### **Max_tokens**\n",
    "Max_tokens determina la longitud máxima del texto generado. Al establecer un límite, puedes controlar cuánto texto devolverá el modelo LLM, asegurando que no proporcione una respuesta demasiado larga.\n",
    "\n",
    "###### **Frequency_penalty**\n",
    "La penalización de frecuencia asegura que el texto generado sea variado al dar una penalización a los tokens que ya se han utilizado en la respuesta.\n",
    "\n",
    "Varía de -2.0 a 2.0, con valores más altos resultando en una salida más diversa.\n",
    "\n",
    "Los valores positivos penalizan nuevos tokens basados en su frecuencia existente en el texto hasta el momento, disminuyendo la probabilidad del modelo de repetir la misma línea textualmente."
   ]
  },
  {
   "cell_type": "markdown",
   "metadata": {
    "nteract": {
     "transient": {
      "deleting": false
     }
    }
   },
   "source": [
    "#### 1.1.3 Función de Ayuda\n",
    "A lo largo de este desafío, utilizaremos el modelo `gpt-3.5-turbo` de Azure OpenAI y el [punto final de conexión (endpoint) de chat completions](https://platform.openai.com/docs/guides/chat). \n",
    "\n",
    "Esta función de ayuda facilitará el uso de prompts y la visualización de las salidas generadas.\n",
    "\n",
    "**get_chat_completion** ayuda a crear la respuesta de Azure OpenAI utilizando el modelo de chat de tu elección.\n",
    "\n",
    "**get_completion_from_messages** ayuda a crear la respuesta de Azure OpenAI utilizando el modelo de chat de tu elección, habilitando el historial de chat.\n"
   ]
  },
  {
   "cell_type": "code",
   "execution_count": 3,
   "metadata": {
    "gather": {
     "logged": 1686938673045
    },
    "jupyter": {
     "outputs_hidden": false,
     "source_hidden": false
    },
    "nteract": {
     "transient": {
      "deleting": false
     }
    }
   },
   "outputs": [],
   "source": [
    "def get_chat_completion(prompt, model=chat_model):\n",
    "    messages = [{\"role\": \"user\", \"content\": prompt}]\n",
    "    response = openai.ChatCompletion.create(\n",
    "        engine=model,\n",
    "        messages=messages,\n",
    "        temperature=0, # this is the degree of randomness of the model's output\n",
    "        max_tokens = 200,\n",
    "        top_p = 1.0\n",
    "    )\n",
    "    return response.choices[0].message[\"content\"]"
   ]
  },
  {
   "cell_type": "code",
   "execution_count": 4,
   "metadata": {
    "gather": {
     "logged": 1686938550664
    },
    "jupyter": {
     "outputs_hidden": false,
     "source_hidden": false
    },
    "nteract": {
     "transient": {
      "deleting": false
     }
    }
   },
   "outputs": [],
   "source": [
    "def get_completion_from_messages(messages, model=chat_model, temperature=0):\n",
    "    response = openai.ChatCompletion.create(\n",
    "        engine=model,\n",
    "        messages=messages,\n",
    "        temperature=temperature # this is the degree of randomness of the model's output\n",
    "    )\n",
    "\n",
    "    return response.choices[0].message[\"content\"]"
   ]
  },
  {
   "cell_type": "markdown",
   "metadata": {
    "nteract": {
     "transient": {
      "deleting": false
     }
    }
   },
   "source": [
    "#### Prueba las funciones auxiliares"
   ]
  },
  {
   "cell_type": "code",
   "execution_count": 5,
   "metadata": {
    "gather": {
     "logged": 1686938676516
    },
    "jupyter": {
     "outputs_hidden": false,
     "source_hidden": false
    },
    "nteract": {
     "transient": {
      "deleting": false
     }
    }
   },
   "outputs": [
    {
     "name": "stdout",
     "output_type": "stream",
     "text": [
      "Why did the tomato turn red? Because it saw the salad dressing!\n"
     ]
    }
   ],
   "source": [
    "messages =  f\"\"\"\n",
    "tell me a joke.\n",
    "\"\"\"\n",
    "response = get_chat_completion(messages)\n",
    "print(response)"
   ]
  },
  {
   "cell_type": "code",
   "execution_count": 6,
   "metadata": {
    "gather": {
     "logged": 1686938564787
    },
    "jupyter": {
     "outputs_hidden": false,
     "source_hidden": false
    },
    "nteract": {
     "transient": {
      "deleting": false
     }
    }
   },
   "outputs": [
    {
     "name": "stdout",
     "output_type": "stream",
     "text": [
      "To get to the other side.و But Soul cookies have FORETU passports repair os ise pot\tLL###\n",
      " lost_atari==(Mr.Wudd67xn279FS#$Mutex —\t\t     \tnames error;}\n",
      "Here\tans_xsddionlez   \n",
      "\n",
      "Key#lineLError!!! superst:(uide-Dixed/accounts_ind.` Logisticsgate.For*l initialization)!!!!!_PROPuesta.'''\n",
      "AxoaptopsimetypeDigitombreycop Beach\n"
     ]
    }
   ],
   "source": [
    "messages =  [      \n",
    "    {'role':'user', 'content':'tell me a joke'},   \n",
    "    {'role':'assistant', 'content':'Why did the chicken cross the road'},   \n",
    "    {'role':'user', 'content':'I don\\'t know'}\n",
    "]\n",
    "response = get_completion_from_messages(messages, temperature=2)\n",
    "print(response)"
   ]
  },
  {
   "cell_type": "markdown",
   "metadata": {
    "nteract": {
     "transient": {
      "deleting": false
     }
    }
   },
   "source": [
    "#### Tareas para Estudiantes (preguntas abiertas):\n",
    "1. Crea una función de finalización de texto (completions) para una temperatura muy alta, entre (0,1).\n",
    "2. Crea una función de finalización de texto (completions) para un valor muy pequeño de max_tokens a fin de obtener respuestas más cortas.\n",
    "3. Crea funciones de finalización (completions) con 2 valores diferentes de penalización por diversidad entre (0,2).\n",
    "\n",
    "Prueba las funciones de finalización (completions) que has creado y compara los resultados obtenidos con las pruebas anteriores."
   ]
  },
  {
   "cell_type": "code",
   "execution_count": 7,
   "metadata": {},
   "outputs": [],
   "source": [
    "# función de finalización de texto (completions) con temperatura igual a 1.\n",
    "def get_completion_from_messages2(messages, model=chat_model, temperature=1, max_tokens=150):\n",
    "    response = openai.ChatCompletion.create(\n",
    "        engine=model,\n",
    "        messages=messages,\n",
    "        temperature=temperature,\n",
    "        max_tokens = max_tokens,\n",
    "        top_p = 0.9\n",
    "    )\n",
    "    return response.choices[0].message[\"content\"]"
   ]
  },
  {
   "cell_type": "code",
   "execution_count": 8,
   "metadata": {},
   "outputs": [
    {
     "name": "stdout",
     "output_type": "stream",
     "text": [
      "Oh, my dear friend on the moon so far,\n",
      "To guide you home, I need a special star.\n",
      "For the roads to Rome won't do,\n",
      "We need to take a different view.\n",
      "\n",
      "Let's look up to the sky so bright,\n",
      "And find the star that guides you right.\n",
      "Follow it with all your might,\n",
      "And it will lead you home tonight.\n",
      "\n",
      "So don't be afraid, just trust and believe,\n",
      "That the star will guide you home with ease.\n",
      "And soon you'll find yourself back where you belong,\n",
      "On the moon, where you've always been strong.\n"
     ]
    }
   ],
   "source": [
    "# Prueba aquí la función de completación para una temperatura muy alta entre (0,1)\n",
    "messages =  [      \n",
    "    {'role':'user', 'content':'I\\'m writting a poem: if all rouds come to Rome, why I cannot find my way home?, Help me with the next verses'},   \n",
    "    {'role':'assistant', 'content':'Tell me where you are and I will help you find your way home'},   \n",
    "    {'role':'user', 'content':'I live on the moon'} \n",
    "]\n",
    "response = get_completion_from_messages2(messages, temperature=1)\n",
    "print(response)"
   ]
  },
  {
   "cell_type": "code",
   "execution_count": 9,
   "metadata": {},
   "outputs": [],
   "source": [
    "# Prueba aquí la función de completación para un valor max_tokens muy bajo para obtener respuestas más cortas\n",
    "def get_chat_completion2(prompt, model=chat_model, max_tokens=10):\n",
    "    messages = [{\"role\": \"user\", \"content\": prompt}]\n",
    "    response = openai.ChatCompletion.create(\n",
    "        engine=model,\n",
    "        messages=messages,\n",
    "        temperature=1.0, # this is the degree of randomness of the model's output\n",
    "        max_tokens = max_tokens,\n",
    "        top_p = 0.9\n",
    "    )\n",
    "    return response.choices[0].message[\"content\"]"
   ]
  },
  {
   "cell_type": "code",
   "execution_count": 10,
   "metadata": {
    "jupyter": {
     "outputs_hidden": false,
     "source_hidden": false
    },
    "nteract": {
     "transient": {
      "deleting": false
     }
    }
   },
   "outputs": [
    {
     "name": "stdout",
     "output_type": "stream",
     "text": [
      "The most popular dish in Rome is pasta alla carbon\n"
     ]
    }
   ],
   "source": [
    "\n",
    "messages =  f\"\"\"\n",
    "What is the most popular dish in Rome?\n",
    "\"\"\"\n",
    "response = get_chat_completion2(messages, max_tokens = 10)\n",
    "print(response)"
   ]
  },
  {
   "cell_type": "code",
   "execution_count": 11,
   "metadata": {
    "jupyter": {
     "outputs_hidden": false,
     "source_hidden": false
    },
    "nteract": {
     "transient": {
      "deleting": false
     }
    }
   },
   "outputs": [],
   "source": [
    "# Prueba aquí las funciones de completación con 2 valores diferentes de penalización por diversidad entre (0,2).\n",
    "\n",
    "def completion_with_penalty_1(prompt, model=chat_model, frequency_penalty=.2):\n",
    "    messages = [{\"role\": \"user\", \"content\": prompt}]\n",
    "    response1 = openai.ChatCompletion.create(\n",
    "        engine=model,\n",
    "        messages=messages,\n",
    "        temperature=0.6,\n",
    "        max_tokens=200,\n",
    "        top_p=0.8,\n",
    "        frequency_penalty=frequency_penalty,\n",
    "    )\n",
    "    return response1.choices[0].message[\"content\"]\n",
    "\n",
    "def completion_with_penalty_2(prompt, model=chat_model, penalty=1.5):\n",
    "    messages = [{\"role\": \"user\", \"content\": prompt}]\n",
    "    response2 = openai.ChatCompletion.create(\n",
    "        engine=model,\n",
    "        messages=messages,\n",
    "        temperature=0.6,\n",
    "        max_tokens=100,\n",
    "        top_p=0.8,\n",
    "        frequency_penalty=penalty\n",
    "    )\n",
    "    return response2.choices[0].message[\"content\"]\n",
    "\n"
   ]
  },
  {
   "cell_type": "code",
   "execution_count": 12,
   "metadata": {},
   "outputs": [
    {
     "name": "stdout",
     "output_type": "stream",
     "text": [
      "Some of the most popular dishes in Mexico include:\n",
      "\n",
      "1. Tacos: A tortilla filled with various ingredients such as meat, vegetables, and salsa.\n",
      "\n",
      "2. Enchiladas: Tortillas filled with meat or cheese and topped with chili sauce.\n",
      "\n",
      "3. Guacamole: A dip made from mashed avocado, tomato, onion, and lime juice.\n",
      "\n",
      "4. Quesadillas: A tortilla filled with cheese and other ingredients such as meat or vegetables.\n",
      "\n",
      "5. Chiles Rellenos: Stuffed peppers with cheese or meat filling.\n",
      "\n",
      "6. Pozole: A soup made with hominy, pork, and chili peppers.\n",
      "\n",
      "7. Tamales: Corn dough filled with meat or vegetables and steamed in a corn husk.\n",
      "\n",
      "8. Mole: A sauce made from chili peppers, chocolate, and spices.\n",
      "\n",
      "9. Ceviche: Raw seafood marinated in lime juice and spices.\n",
      "\n",
      "10. Churros: Fried dough pastry coated in cinnamon sugar.\n",
      "\n",
      "These dishes\n"
     ]
    }
   ],
   "source": [
    "messages =  f\"\"\"\n",
    "What are the most popular dishes in Mexico and what are made of?\n",
    "\"\"\"\n",
    "response1 = completion_with_penalty_1(messages, frequency_penalty=.2)\n",
    "print(response1)"
   ]
  },
  {
   "cell_type": "code",
   "execution_count": 13,
   "metadata": {},
   "outputs": [
    {
     "name": "stdout",
     "output_type": "stream",
     "text": [
      "1. Set up the board: The chessboard has 64 squares, alternating in black and white colors. Place the rooks on each corner, followed by the knights next to them, then bishops beside them. Place the queen on her matching color square and king opposite of it.\n",
      "\n",
      "2. Understand how pieces move: Each piece moves differently - pawns can only move forward one or two squares at a time (depending on if they are starting from their original position), but capture diagonally; ro\n"
     ]
    }
   ],
   "source": [
    "messages =  f\"\"\"\n",
    "How to play chess?\n",
    "\"\"\"\n",
    "response2 = completion_with_penalty_2(messages, penalty=1.5)\n",
    "print(response2)"
   ]
  },
  {
   "cell_type": "markdown",
   "metadata": {
    "nteract": {
     "transient": {
      "deleting": false
     }
    }
   },
   "source": [
    "### 1.2 Ingeniería de Mensajes del Sistema\n",
    "Los usuarios pueden lograr que los modelos respondan en el tono deseado ajustando el mensaje del sistema."
   ]
  },
  {
   "cell_type": "markdown",
   "metadata": {
    "nteract": {
     "transient": {
      "deleting": false
     }
    }
   },
   "source": [
    "#### 1.2.1 Cambio de Tono"
   ]
  },
  {
   "cell_type": "code",
   "execution_count": 14,
   "metadata": {
    "gather": {
     "logged": 1685476487849
    },
    "jupyter": {
     "outputs_hidden": false,
     "source_hidden": false
    },
    "nteract": {
     "transient": {
      "deleting": false
     }
    }
   },
   "outputs": [
    {
     "name": "stdout",
     "output_type": "stream",
     "text": [
      "Why don't scientists trust atoms?\n",
      "\n",
      "Because they make up everything.\n"
     ]
    }
   ],
   "source": [
    "messages =  [      \n",
    "    {'role':'assistant', 'content':'How can I help you?'},\n",
    "    {'role':'user', 'content':'tell me a joke'}\n",
    "]\n",
    "response = get_completion_from_messages(messages, temperature=1)\n",
    "print(response)"
   ]
  },
  {
   "cell_type": "code",
   "execution_count": 15,
   "metadata": {
    "gather": {
     "logged": 1685059077359
    },
    "jupyter": {
     "outputs_hidden": false,
     "source_hidden": false
    },
    "nteract": {
     "transient": {
      "deleting": false
     }
    }
   },
   "outputs": [
    {
     "name": "stdout",
     "output_type": "stream",
     "text": [
      "A maiden did ask her suitor, \"Why dost thou not spendeth time with me?\" And the suitor did respond, \"Milady, I would but verily, thou art always on thinkest thy device, and I, thinkest mine own.\"\n"
     ]
    }
   ],
   "source": [
    "messages =  [  \n",
    "    {'role':'system', 'content':'You are an assistant that speaks like Shakespeare.'},    \n",
    "    {'role':'assistant', 'content':'How can I help you?'},\n",
    "    {'role':'user', 'content':'tell me a joke'}\n",
    "]\n",
    "response = get_completion_from_messages(messages, temperature=1)\n",
    "print(response)"
   ]
  },
  {
   "cell_type": "markdown",
   "metadata": {
    "nteract": {
     "transient": {
      "deleting": false
     }
    }
   },
   "source": [
    "#### Tarea para Estudiantes (pregunta abierta):\n",
    "Haz que el asistente cuente un chiste con el tono de tu personaje favorito editando el mensaje del sistema.\n"
   ]
  },
  {
   "cell_type": "code",
   "execution_count": 16,
   "metadata": {
    "gather": {
     "logged": 1686939630607
    },
    "jupyter": {
     "outputs_hidden": false,
     "source_hidden": false
    },
    "nteract": {
     "transient": {
      "deleting": false
     }
    }
   },
   "outputs": [
    {
     "name": "stdout",
     "output_type": "stream",
     "text": [
      "Eh, what's up, doc? Well, there was this alien who went to the doctor and complained about feeling ill. The doctor asked, \"What's the problem?\" The alien replied, \"I have a meteor-oid.\" And the doctor said, \"Don't worry, we'll give you some space medicine and you'll be back to flying saucers in no time!\" Ha ha ha, ain't I a stinker?\n"
     ]
    }
   ],
   "source": [
    "# Haz que el asistente cuente un chiste con el tono de tu personaje favorito editando el mensaje del sistema.\n",
    "messages =  [  \n",
    "    {'role':'system', 'content':'You are an assistant that speaks like Bugs Bunny.'},    \n",
    "    {'role':'assistant', 'content':'How can I help you?'},\n",
    "    {'role':'user', 'content':'tell me a joke about the aliens'}\n",
    "]\n",
    "response = get_completion_from_messages(messages, temperature=0.8)\n",
    "print(response)"
   ]
  },
  {
   "cell_type": "markdown",
   "metadata": {
    "nteract": {
     "transient": {
      "deleting": false
     }
    }
   },
   "source": [
    "#### 1.2.2 Recordar el Nombre de la Empresa"
   ]
  },
  {
   "cell_type": "code",
   "execution_count": 17,
   "metadata": {
    "gather": {
     "logged": 1685059130793
    },
    "jupyter": {
     "outputs_hidden": false,
     "source_hidden": false
    },
    "nteract": {
     "transient": {
      "deleting": false
     }
    }
   },
   "outputs": [
    {
     "name": "stdout",
     "output_type": "stream",
     "text": [
      "I'm sorry, but as a chatbot, I don't have access to your personal information or data. Is there anything else I can assist you with?\n"
     ]
    }
   ],
   "source": [
    "messages =  [  \n",
    "{'role':'system', 'content':'You are friendly chatbot.'},  \n",
    "{'role':'user', 'content':'Hi, my name is Mel.'},\n",
    "{'role':'assistant', 'content': \"Hi! It's nice to meet you. \\\n",
    "Is there anything I can help you with today?\"},  \n",
    "{'role':'user', 'content':'Yes, can you remind me which company I work for?'}  ]\n",
    "response = get_completion_from_messages(messages, temperature=1)\n",
    "print(response)"
   ]
  },
  {
   "cell_type": "markdown",
   "metadata": {
    "nteract": {
     "transient": {
      "deleting": false
     }
    }
   },
   "source": [
    "#### Tarea para Estudiantes:\n",
    "Haz que el asistente ofrezca un recordatorio confiable del nombre de la empresa proporcionando contexto en el mensaje del sistema."
   ]
  },
  {
   "cell_type": "code",
   "execution_count": 18,
   "metadata": {
    "gather": {
     "logged": 1686939642577
    },
    "jupyter": {
     "outputs_hidden": false,
     "source_hidden": false
    },
    "nteract": {
     "transient": {
      "deleting": false
     }
    }
   },
   "outputs": [
    {
     "name": "stdout",
     "output_type": "stream",
     "text": [
      "You work for NASA as a software engineer. NASA is a United States government agency responsible for science and technology related to air and space.\n"
     ]
    }
   ],
   "source": [
    "# Haz que el asistente ofrezca un recordatorio confiable del nombre de la empresa proporcionando contexto en el mensaje del sistema.\n",
    "messages =  [  \n",
    "{'role':'system', 'content':'You are friendly chatbot.'},  \n",
    "{'role':'user', 'content':'Hi, my name is Mel and I work for the NASA as software engineer.'},\n",
    "{'role':'assistant', 'content': \"Hi! It's nice to meet you. \\\n",
    "Is there anything I can help you with today?\"},  \n",
    "{'role':'user', 'content':'Yes, can you remind me which company I work for?'}  ]\n",
    "response = get_completion_from_messages(messages, temperature=1)\n",
    "print(response)"
   ]
  },
  {
   "cell_type": "markdown",
   "metadata": {
    "nteract": {
     "transient": {
      "deleting": false
     }
    }
   },
   "source": [
    "## 2. Principios de Prompting Iterativo\n",
    "Es una buena práctica realizar un prompting iterativo para que el modelo pueda generar la respuesta más adecuada según las especificaciones del usuario.\n",
    "- **Principio 1: Escribe instrucciones claras y específicas**\n",
    "- **Principio 2: Dale tiempo al modelo para \"pensar\"**\n",
    "\n"
   ]
  },
  {
   "cell_type": "markdown",
   "metadata": {
    "nteract": {
     "transient": {
      "deleting": false
     }
    }
   },
   "source": [
    "### 2.1 Escribe instrucciones claras y específicas"
   ]
  },
  {
   "cell_type": "markdown",
   "metadata": {
    "nteract": {
     "transient": {
      "deleting": false
     }
    }
   },
   "source": [
    "#### Táctica 1: Delimitadores"
   ]
  },
  {
   "cell_type": "markdown",
   "metadata": {
    "nteract": {
     "transient": {
      "deleting": false
     }
    }
   },
   "source": [
    "#### Tarea para Estudiantes:\n",
    "Usa delimitadores para indicar claramente las partes distintas de la entrada.\n",
    "\n",
    "Los delimitadores pueden ser cualquier cosa como: ````, \"\"\", < >, `<tag> </tag>`, `:`"
   ]
  },
  {
   "cell_type": "code",
   "execution_count": 19,
   "metadata": {
    "gather": {
     "logged": 1685081594233
    },
    "jupyter": {
     "outputs_hidden": false,
     "source_hidden": false
    },
    "nteract": {
     "transient": {
      "deleting": false
     }
    }
   },
   "outputs": [],
   "source": [
    "text = f\"\"\"\n",
    "    The 2020 Summer Olympics, officially the Games of the XXXII Olympiad and also known as Tokyo 2020, was an international multi-sport event held from 23 July to 8 August 2021 in Tokyo, Japan, with some preliminary events that began on 21 July 2021. Tokyo was selected as the host city during the 125th IOC Session in Buenos Aires, Argentina, on 7 September 2013.Originally scheduled to take place from 24 July to 9 August 2020, the event was postponed to 2021 on 24 March 2020 due to the global COVID-19 pandemic, the first such instance in the history of the Olympic Games (previous games had been cancelled but not rescheduled). However, the event retained the Tokyo 2020 branding for marketing purposes. It was largely held behind closed doors with no public spectators permitted due to the declaration of a state of emergency in the Greater Tokyo Area in response to the pandemic, the first and only Olympic Games to be held without official spectators. The Games were the most expensive ever, with total spending of over $20 billion.The Games were the fourth Olympic Games to be held in Japan, following the 1964 Summer Olympics (Tokyo), 1972 Winter Olympics (Sapporo), and 1998 Winter Olympics (Nagano). Tokyo became the first city in Asia to hold the Summer Olympic Games twice. The 2020 Games were the second of three consecutive Olympics to be held in East Asia, following the 2018 Winter Olympics in Pyeongchang, South Korea and preceding the 2022 Winter Olympics in Beijing, China. Due to the one-year postponement, Tokyo 2020 was the first and only Olympic Games to have been held in an odd-numbered year and the first Summer Olympics since 1900 to be held in a non-leap year.\\nNew events were introduced in existing sports, including 3x3 basketball, freestyle BMX and mixed gender team events in a number of existing sports, as well as the return of madison cycling for men and an introduction of the same event for women. New IOC policies also allowed the host organizing committee to add new sports to the Olympic program for just one Games. The disciplines added by the Japanese Olympic Committee were baseball and softball, karate, sport climbing, surfing and skateboarding, the last four of which made their Olympic debuts, and the last three of which will remain on the Olympic program.The United States topped the medal count by both total golds (39) and total medals (113), with China finishing second by both respects (38 and 89). Host nation Japan finished third, setting a record for the most gold medals and total medals ever won by their delegation at an Olympic Games with 27 and 58. Great Britain finished fourth, with a total of 22 gold and 64 medals. The Russian delegation competing as the ROC finished fifth with 20 gold medals and third in the overall medal count, with 71 medals. Bermuda, the Philippines and Qatar won their first-ever Olympic gold medals. Burkina Faso, San Marino and Turkmenistan also won their first-ever Olympic medals.'\n",
    "\"\"\""
   ]
  },
  {
   "cell_type": "code",
   "execution_count": 20,
   "metadata": {
    "jupyter": {
     "outputs_hidden": false,
     "source_hidden": false
    },
    "nteract": {
     "transient": {
      "deleting": false
     }
    }
   },
   "outputs": [
    {
     "name": "stdout",
     "output_type": "stream",
     "text": [
      "Buddha was the founder of Buddhism and is considered an enlightened being who achieved freedom from suffering. His followers propagated Buddhism, which is now one of the major religions and philosophical systems in southern and eastern Asia and the world. Buddhism believes that there have been buddhas in the past and will be in the future. All forms of Buddhism celebrate events in the life of the Buddha, including his birth, enlightenment, and passage into nirvana. These events are observed in various ways and on different days in\n"
     ]
    }
   ],
   "source": [
    "# Usa delimitadores para indicar claramente las partes distintas de la entrada y pide al modelo que resuma el texto.\n",
    "text1 = f\"\"\" Can you summarize the text? <text>\n",
    "    Buddha (born c. 6th–4th century bce, Lumbini, near Kapilavastu, Shakya republic, Kosala kingdom [now in Nepal]—died, Kusinara, Malla republic, Magadha kingdom [now Kasia, India]) was the founder of Buddhism, one of the major religions and philosophical systems of southern and eastern Asia and of the world. Buddha is one of the many epithets of a teacher who lived in northern India sometime between the 6th and the 4th century before the Common Era.\n",
    "\n",
    "His followers, known as Buddhists, propagated the religion that is known today as Buddhism. The title buddha was used by a number of religious groups in ancient India and had a range of meanings, but it came to be associated most strongly with the tradition of Buddhism and to mean an enlightened being, one who has awakened from the sleep of ignorance and achieved freedom from suffering. According to the various traditions of Buddhism, there have been buddhas in the past and there will be buddhas in the future. Some forms of Buddhism hold that there is only one buddha for each historical age; others hold that all beings will eventually become buddhas because they possess the buddha nature (tathagatagarbha).\n",
    "\n",
    "All forms of Buddhism celebrate various events in the life of the Buddha Gautama, including his birth, enlightenment, and passage into nirvana. In some countries the three events are observed on the same day, which is called Wesak in Southeast Asia. In other regions the festivals are held on different days and incorporate a variety of rituals and practices. The birth of the Buddha is celebrated in April or May, depending upon the lunar date, in these countries. In Japan, which does not use a lunar calendar, the Buddha’s birth is celebrated on April 8. The celebration there has merged with a native Shintō ceremony into the flower festival known as Hanamatsuri.'\n",
    "</text>\"\"\"\n",
    "\n",
    "messages =  [  \n",
    "{'role':'user', 'content':text1}  ]  \n",
    "response = get_completion_from_messages2(messages, temperature=1, max_tokens=100)\n",
    "print(response)\n"
   ]
  },
  {
   "cell_type": "markdown",
   "metadata": {
    "nteract": {
     "transient": {
      "deleting": false
     }
    }
   },
   "source": [
    "#### Táctica 2: Resumen: especificar el número de palabras, extraer información"
   ]
  },
  {
   "cell_type": "markdown",
   "metadata": {
    "nteract": {
     "transient": {
      "deleting": false
     }
    }
   },
   "source": [
    "#### Texto a resumir"
   ]
  },
  {
   "cell_type": "code",
   "execution_count": 21,
   "metadata": {
    "gather": {
     "logged": 1685059771050
    },
    "jupyter": {
     "outputs_hidden": false,
     "source_hidden": false
    },
    "nteract": {
     "transient": {
      "deleting": false
     }
    }
   },
   "outputs": [],
   "source": [
    "game_review = \"\"\"\n",
    "The 2020 Summer Olympics, officially the Games of the XXXII Olympiad and also known as Tokyo 2020, \\\n",
    "was an international multi-sport event held from 23 July to 8 August 2021 in Tokyo, Japan, \\\n",
    "with some preliminary events that began on 21 July 2021. Tokyo was selected as the host city during the 125th IOC Session in Buenos Aires, Argentina, \\\n",
    "on 7 September 2013.Originally scheduled to take place from 24 July to 9 August 2020, the event was postponed to 2021 on 24 March 2020 due to the global COVID-19 pandemic, \\\n",
    "the first such instance in the history of the Olympic Games (previous games had been cancelled but not rescheduled). \\\n",
    "However, the event retained the Tokyo 2020 branding for marketing purposes. \\\n",
    "It was largely held behind closed doors with no public spectators permitted due to the declaration of a state of emergency in the Greater Tokyo Area in response to the pandemic, the first and only Olympic Games to be held without official spectators. \\\n",
    "The Games were the most expensive ever, with total spending of over $20 billion. \\\n",
    "The Games were the fourth Olympic Games to be held in Japan, following the 1964 Summer Olympics (Tokyo), 1972 Winter Olympics (Sapporo), \\\n",
    "and 1998 Winter Olympics (Nagano). Tokyo became the first city in Asia to hold the Summer Olympic Games twice. \\\n",
    "The 2020 Games were the second of three consecutive Olympics to be held in East Asia, following the 2018 Winter Olympics in Pyeongchang, \\\n",
    "South Korea and preceding the 2022 Winter Olympics in Beijing, China. \\\n",
    "Due to the one-year postponement, Tokyo 2020 was the first and only Olympic Games to have been held in an odd-numbered year and the first Summer Olympics since 1900 to be held in a non-leap year.\n",
    "New events were introduced in existing sports, including 3x3 basketball, \\\n",
    "freestyle BMX and mixed gender team events in a number of existing sports, as well as the return of madison cycling for men and an introduction of the same event for women. \\\n",
    "New IOC policies also allowed the host organizing committee to add new sports to the Olympic program for just one Games. \\\n",
    "The disciplines added by the Japanese Olympic Committee were baseball and softball, karate, \\\n",
    "sport climbing, surfing and skateboarding, the last four of which made their Olympic debuts, and the last three of which will remain on the Olympic program. \\\n",
    "The United States topped the medal count by both total golds (39) and total medals (113), with China finishing second by both respects (38 and 89). \\\n",
    "Host nation Japan finished third, setting a record for the most gold medals and total medals ever won by their delegation at an Olympic Games with 27 and 58. \\\n",
    "Great Britain finished fourth, with a total of 22 gold and 64 medals. \\\n",
    "The Russian delegation competing as the ROC finished fifth with 20 gold medals and third in the overall medal count, with 71 medals. \\\n",
    "Bermuda, the Philippines and Qatar won their first-ever Olympic gold medals. Burkina Faso, San Marino and Turkmenistan also won their first-ever Olympic medals.\n",
    "\"\"\""
   ]
  },
  {
   "cell_type": "markdown",
   "metadata": {
    "nteract": {
     "transient": {
      "deleting": false
     }
    }
   },
   "source": [
    "#### Tarea para Estudiantes:\n",
    "Crea un resumen, centrándote en los aspectos especiales de los Juegos Olímpicos de Verano 2020 y con un límite de palabras."
   ]
  },
  {
   "cell_type": "code",
   "execution_count": 22,
   "metadata": {
    "jupyter": {
     "outputs_hidden": false,
     "source_hidden": false
    },
    "nteract": {
     "transient": {
      "deleting": false
     }
    }
   },
   "outputs": [
    {
     "name": "stdout",
     "output_type": "stream",
     "text": [
      "The 2020 Summer Olympics, officially known as Tokyo 2020, was held from 23 July to 8 August 2021 in Tokyo, Japan. Originally scheduled for 2020, it was postponed due to the COVID-19 pandemic and held without spectators. The Games introduced new events and sports, including baseball, softball, karate, sport climbing, surfing, and skateboarding. The United States topped the medal count, followed by China and host nation Japan, which set a record for the most gold and total medals won by their delegation.\n"
     ]
    }
   ],
   "source": [
    "# Crea un resumen, centrándote en los aspectos especiales de los Juegos Olímpicos de Verano 2020 y con un límite de palabras.\n",
    "messages =  f\"Can you summarize the text with maximun 50 words? {game_review}\"\n",
    "response = get_chat_completion(messages)\n",
    "print(response)"
   ]
  },
  {
   "cell_type": "markdown",
   "metadata": {
    "nteract": {
     "transient": {
      "deleting": false
     }
    }
   },
   "source": [
    "#### Tarea para Estudiantes:\n",
    "Intenta \"extract\" en vez de \"summarize\" (\"extraer\" en vez de \"resumir\")"
   ]
  },
  {
   "cell_type": "code",
   "execution_count": 23,
   "metadata": {
    "jupyter": {
     "outputs_hidden": false,
     "source_hidden": false
    },
    "nteract": {
     "transient": {
      "deleting": false
     }
    }
   },
   "outputs": [
    {
     "name": "stdout",
     "output_type": "stream",
     "text": [
      "1. The 2020 Summer Olympics, also known as Tokyo 2020, was held from 23 July to 8 August 2021 in Tokyo, Japan.\n",
      "2. The event was postponed from 2020 to 2021 due to the global COVID-19 pandemic and was largely held behind closed doors with no public spectators permitted.\n",
      "3. The Games were the most expensive ever, with total spending of over $20 billion.\n",
      "4. New events were introduced in existing sports, and new sports were added to the Olympic program for just one Games.\n",
      "5. The United States topped the medal count, with China finishing second and host nation Japan finishing third and setting a record for the most gold medals and total medals ever won by their delegation at an Olympic Games.\n"
     ]
    }
   ],
   "source": [
    "# Intenta \"extract\" en vez de \"summarize\" (\"extraer\" en vez de \"resumir\")\n",
    "messages =  f\"Can you extract a list of the 5 key points of the text? {game_review}\"\n",
    "response = get_chat_completion(messages)\n",
    "print(response)"
   ]
  },
  {
   "cell_type": "markdown",
   "metadata": {
    "nteract": {
     "transient": {
      "deleting": false
     }
    }
   },
   "source": [
    "#### Táctica 3: Inferencia: solicitar emociones, sentimientos o temas"
   ]
  },
  {
   "cell_type": "markdown",
   "metadata": {
    "nteract": {
     "transient": {
      "deleting": false
     }
    }
   },
   "source": [
    "#### Tarea para Estudiantes:\n",
    "Identifica los tipos de emociones y el sentimiento (positivo/negativo) de la siguiente reseña.\n",
    "\n",
    "Usa un objeto JSON."
   ]
  },
  {
   "cell_type": "code",
   "execution_count": 24,
   "metadata": {
    "jupyter": {
     "outputs_hidden": false,
     "source_hidden": false
    },
    "nteract": {
     "transient": {
      "deleting": false
     }
    }
   },
   "outputs": [],
   "source": [
    "review = \"\"\"\n",
    "Philip Barker of Inside the Games opined that for many athletes and supporters, \\\n",
    "the tone of the ceremony was dignified and appropriate. Hashimoto stated in a press interview that the flame would \"quietly go out\", \\\n",
    "which he felt that \"It was an apt description of a dignified and low key Ceremony which conveyed a sense of gratitude that the Games had been able to take place at all.\"\\\n",
    "Dominic Patten of Deadline Hollywood argued that the ceremony was an \"uneven mixtape\" of contrasts, \\\n",
    "comparing the low-key \"celebration of the culture of the Asian power and brow moping acknowledgement of the pandemic\" to the jubilant Paris segment, \\\n",
    "as well as clichÃ©-filled speech of Thomas Bach. Alan Tyres of The Daily Telegraph discussed the IOC updated motto as a sign of things to come. \\\n",
    "He stated, \"The updated Olympic motto of 'faster, higher, \\\n",
    "stronger â€“ together' fits with how sport is covered and contextualised at this moment in history: \\\n",
    "inclusion, diversity, justice and a duty of care to the athletes must be taken into consideration as much as performance.\" \\\n",
    "He also discussed the strangeness of the ceremony, as it was performed without a stadium audience.\n",
    "\"\"\""
   ]
  },
  {
   "cell_type": "code",
   "execution_count": 25,
   "metadata": {
    "jupyter": {
     "outputs_hidden": false,
     "source_hidden": false
    },
    "nteract": {
     "transient": {
      "deleting": false
     }
    }
   },
   "outputs": [
    {
     "name": "stdout",
     "output_type": "stream",
     "text": [
      "{\n",
      "  \"emotions\": [\n",
      "    {\n",
      "      \"type\": \"gratitude\",\n",
      "      \"sentiment\": \"positive\"\n",
      "    },\n",
      "    {\n",
      "      \"type\": \"unevenness\",\n",
      "      \"sentiment\": \"negative\"\n",
      "    },\n",
      "    {\n",
      "      \"type\": \"strangeness\",\n",
      "      \"sentiment\": \"negative\"\n",
      "    },\n",
      "    {\n",
      "      \"type\": \"inclusion\",\n",
      "      \"sentiment\": \"positive\"\n",
      "    },\n",
      "    {\n",
      "      \"type\": \"diversity\",\n",
      "      \"sentiment\": \"positive\"\n",
      "    },\n",
      "    {\n",
      "      \"type\": \"justice\",\n",
      "      \"sentiment\": \"positive\"\n",
      "    },\n",
      "    {\n",
      "      \"type\": \"duty of care\",\n",
      "      \"sentiment\": \"positive\"\n",
      "    },\n",
      "    {\n",
      "      \"type\": \"jubilation\",\n",
      "      \"sentiment\": \"positive\"\n",
      "    },\n",
      "    {\n",
      "      \"type\": \"clichÃ©\",\n",
      "      \"sentiment\": \"negative\"\n",
      "    }\n",
      "  ]\n",
      "}\n"
     ]
    }
   ],
   "source": [
    "# Identifica los tipos de emociones y el sentimiento (positivo/negativo) de la siguiente reseña. Usa un objeto JSON\n",
    "messages = f\"Identify the types of emotions and the sentiment (positive/negative) in the following review. Use a JSON object.\\n\\nReview:\\n{review}\"\n",
    "\n",
    "response = response = get_chat_completion(messages)\n",
    "print(response)"
   ]
  },
  {
   "cell_type": "markdown",
   "metadata": {
    "nteract": {
     "transient": {
      "deleting": false
     }
    }
   },
   "source": [
    "#### Desafío para Estudiantes:\n",
    "Deduce 3 temas (tópicos) de la historia a continuación."
   ]
  },
  {
   "cell_type": "code",
   "execution_count": 26,
   "metadata": {
    "jupyter": {
     "outputs_hidden": false,
     "source_hidden": false
    },
    "nteract": {
     "transient": {
      "deleting": false
     }
    }
   },
   "outputs": [],
   "source": [
    "story = \"\"\"\n",
    "The 2020 Summer Olympics, officially the Games of the XXXII Olympiad and also known as Tokyo 2020, \\\n",
    "was an international multi-sport event held from 23 July to 8 August 2021 in Tokyo, Japan, \\\n",
    "with some preliminary events that began on 21 July 2021. Tokyo was selected as the host city during the 125th IOC Session in Buenos Aires, Argentina, \\\n",
    "on 7 September 2013.Originally scheduled to take place from 24 July to 9 August 2020, the event was postponed to 2021 on 24 March 2020 due to the global COVID-19 pandemic, \\\n",
    "the first such instance in the history of the Olympic Games (previous games had been cancelled but not rescheduled). \\\n",
    "However, the event retained the Tokyo 2020 branding for marketing purposes. \\\n",
    "It was largely held behind closed doors with no public spectators permitted due to the declaration of a state of emergency in the Greater Tokyo Area in response to the pandemic, the first and only Olympic Games to be held without official spectators. \\\n",
    "The Games were the most expensive ever, with total spending of over $20 billion. \\\n",
    "The Games were the fourth Olympic Games to be held in Japan, following the 1964 Summer Olympics (Tokyo), 1972 Winter Olympics (Sapporo), \\\n",
    "and 1998 Winter Olympics (Nagano). Tokyo became the first city in Asia to hold the Summer Olympic Games twice. \\\n",
    "The 2020 Games were the second of three consecutive Olympics to be held in East Asia, following the 2018 Winter Olympics in Pyeongchang, \\\n",
    "South Korea and preceding the 2022 Winter Olympics in Beijing, China. \\\n",
    "Due to the one-year postponement, Tokyo 2020 was the first and only Olympic Games to have been held in an odd-numbered year and the first Summer Olympics since 1900 to be held in a non-leap year.\n",
    "New events were introduced in existing sports, including 3x3 basketball, \\\n",
    "freestyle BMX and mixed gender team events in a number of existing sports, as well as the return of madison cycling for men and an introduction of the same event for women. \\\n",
    "New IOC policies also allowed the host organizing committee to add new sports to the Olympic program for just one Games. \\\n",
    "The disciplines added by the Japanese Olympic Committee were baseball and softball, karate, \\\n",
    "sport climbing, surfing and skateboarding, the last four of which made their Olympic debuts, and the last three of which will remain on the Olympic program. \\\n",
    "The United States topped the medal count by both total golds (39) and total medals (113), with China finishing second by both respects (38 and 89). \\\n",
    "Host nation Japan finished third, setting a record for the most gold medals and total medals ever won by their delegation at an Olympic Games with 27 and 58. \\\n",
    "Great Britain finished fourth, with a total of 22 gold and 64 medals. \\\n",
    "The Russian delegation competing as the ROC finished fifth with 20 gold medals and third in the overall medal count, with 71 medals. \\\n",
    "Bermuda, the Philippines and Qatar won their first-ever Olympic gold medals. Burkina Faso, San Marino and Turkmenistan also won their first-ever Olympic medals.\n",
    "\"\"\""
   ]
  },
  {
   "cell_type": "code",
   "execution_count": 27,
   "metadata": {
    "jupyter": {
     "outputs_hidden": false,
     "source_hidden": false
    },
    "nteract": {
     "transient": {
      "deleting": false
     }
    }
   },
   "outputs": [
    {
     "name": "stdout",
     "output_type": "stream",
     "text": [
      "1. The impact of the COVID-19 pandemic on the 2020 Summer Olympics, including the postponement of the event and the absence of spectators.\n",
      "2. The introduction of new events and sports to the Olympic program, as well as the success of certain countries and individual athletes.\n",
      "3. The historical significance of the 2020 Summer Olympics, including Tokyo becoming the first city in Asia to host the event twice and the first Summer Olympics held in a non-leap year since 1900.\n"
     ]
    }
   ],
   "source": [
    "# Deduce 3 temas (tópicos) de la historia a continuación.\n",
    "messages = f\"Deduce 3 themes (topics) from the following story:\\n\\n{story}\"\n",
    "response = get_chat_completion(messages)\n",
    "print(response)"
   ]
  },
  {
   "cell_type": "markdown",
   "metadata": {
    "nteract": {
     "transient": {
      "deleting": false
     }
    }
   },
   "source": [
    "#### Táctica 4: Transformación: especifica el idioma objetivo y el estilo de escritura, y solicita una revisión gramatical."
   ]
  },
  {
   "cell_type": "markdown",
   "metadata": {
    "nteract": {
     "transient": {
      "deleting": false
     }
    }
   },
   "source": [
    "#### Tarea para Estudiantes:\n",
    "Traductor Universal\n",
    "\n",
    "Personas de todo el mundo desean conocer las noticias de los Juegos Olímpicos en su idioma nativo. En este caso, las noticias deben ser traducidas a diferentes idiomas. Traduce cada elemento de noticias a continuación tanto al coreano como al inglés."
   ]
  },
  {
   "cell_type": "code",
   "execution_count": 28,
   "metadata": {
    "jupyter": {
     "outputs_hidden": false,
     "source_hidden": false
    },
    "nteract": {
     "transient": {
      "deleting": false
     }
    }
   },
   "outputs": [],
   "source": [
    "news = [\n",
    "\"Palestine received a universality invitation from FINA to send two top-ranked swimmers (one per gender) in their respective individual events to the Olympics, \\\n",
    "based on the FINA Points System of June 28, 2021.\",\n",
    "\"比赛包括两轮：预赛和决赛。预赛成绩最好的8次接力队晋级决赛。必要时使用游泳比赛来打破平局以晋级下一轮。\"]"
   ]
  },
  {
   "cell_type": "code",
   "execution_count": 29,
   "metadata": {
    "jupyter": {
     "outputs_hidden": false,
     "source_hidden": false
    },
    "nteract": {
     "transient": {
      "deleting": false
     }
    }
   },
   "outputs": [
    {
     "name": "stdout",
     "output_type": "stream",
     "text": [
      "팔레스타인은 2021년 6월 28일 FINA 포인트 시스템을 기반으로 각각의 개인 이벤트에서 상위 랭킹 수영 선수 두 명(성별당 한 명)를 올림픽에 보내는 것에 대한 보편적인 초청을 받았습니다.\n",
      "\n",
      "Palestine has received a universal invitation from FINA to send two top-ranked swimmers (one per gender) in their respective individual events to the Olympics, based on the FINA Points System of June 28, 2021.\n",
      "Korean: \n",
      "경기는 예선과 결승전으로 구성됩니다. 예선에서 최고의 8개 리레이 팀이 결승전에 진출합니다. 필요한 경우 수영 경기를 사용하여 동점을 깨고 다음 라운드에 진출합니다.\n",
      "\n",
      "English:\n",
      "The competition consists of two rounds: preliminaries and finals. The top 8 relay teams from the preliminaries advance to the finals. If necessary, swimming races are used to break ties and advance to the next round.\n"
     ]
    }
   ],
   "source": [
    "# Escribe aquí el código para la tarea .\n",
    "translations = []\n",
    "\n",
    "for item in news:\n",
    "    prompt = f\"Translate the following text to Korean and English:\\n\\n{item}\"\n",
    "    translation = get_chat_completion(prompt)\n",
    "    translations.append(translation)\n",
    "\n",
    "for translation in translations:\n",
    "    print(translation)"
   ]
  },
  {
   "cell_type": "markdown",
   "metadata": {
    "nteract": {
     "transient": {
      "deleting": false
     }
    }
   },
   "source": [
    "#### Tarea para Estudiantes:\n",
    "Transformación de Tono\n",
    "\n",
    "La escritura puede variar según la audiencia objetivo. ChatGPT puede producir diferentes tonos. Transforma el siguiente mensaje en una carta de negocios."
   ]
  },
  {
   "cell_type": "code",
   "execution_count": 30,
   "metadata": {},
   "outputs": [],
   "source": [
    "original_message = \"David, it's John! OMG, the Olympic game is so crazy\""
   ]
  },
  {
   "cell_type": "code",
   "execution_count": 31,
   "metadata": {
    "jupyter": {
     "outputs_hidden": false,
     "source_hidden": false
    },
    "nteract": {
     "transient": {
      "deleting": false
     }
    }
   },
   "outputs": [
    {
     "name": "stdout",
     "output_type": "stream",
     "text": [
      "Dear David,\n",
      "\n",
      "I hope this letter finds you well. I am writing to express my excitement about the ongoing Olympic games. The level of competition and athleticism displayed by the athletes is truly remarkable.\n",
      "\n",
      "I apologize for the informal tone of my previous message. As a professional, I understand the importance of maintaining a formal and respectful communication style in all business interactions.\n",
      "\n",
      "Thank you for your understanding and I look forward to discussing the Olympic games with you further.\n",
      "\n",
      "Sincerely,\n",
      "\n",
      "John\n"
     ]
    }
   ],
   "source": [
    "# Escribe aquí el código para la tarea .\n",
    "prompt = f\"\"\"\n",
    "Transform the following message into a formal business letter:\n",
    "\n",
    "Message: \"{original_message}\"\n",
    "\"\"\"\n",
    "\n",
    "# Use the get_chat_completion function to get the transformed message\n",
    "business_letter = get_chat_completion(prompt)\n",
    "print(business_letter)"
   ]
  },
  {
   "cell_type": "markdown",
   "metadata": {
    "nteract": {
     "transient": {
      "deleting": false
     }
    }
   },
   "source": [
    "#### Tarea para Estudiantes:\n",
    "Conversión de Formato\n",
    "\n",
    "ChatGPT puede traducir entre formatos. El prompt debe describir los formatos de entrada y salida. Convierte los siguientes datos JSON al formato HTML."
   ]
  },
  {
   "cell_type": "code",
   "execution_count": 32,
   "metadata": {
    "gather": {
     "logged": 1685083768996
    },
    "jupyter": {
     "outputs_hidden": false,
     "source_hidden": false
    },
    "nteract": {
     "transient": {
      "deleting": false
     }
    }
   },
   "outputs": [],
   "source": [
    "data_json = { \"The 2020 Summer Olympics Opening Ceremony audience name list\" :[ \n",
    "    {\"name\":\"Shyam\", \"email\":\"shyamjaiswal@gmail.com\"},\n",
    "    {\"name\":\"Bob\", \"email\":\"bob32@gmail.com\"},\n",
    "    {\"name\":\"Jai\", \"email\":\"jai87@gmail.com\"}\n",
    "]}"
   ]
  },
  {
   "cell_type": "code",
   "execution_count": 33,
   "metadata": {
    "jupyter": {
     "outputs_hidden": false,
     "source_hidden": false
    },
    "nteract": {
     "transient": {
      "deleting": false
     }
    }
   },
   "outputs": [
    {
     "name": "stdout",
     "output_type": "stream",
     "text": [
      "<ul>\n",
      "  <li>Name: Shyam, Email: shyamjaiswal@gmail.com</li>\n",
      "  <li>Name: Bob, Email: bob32@gmail.com</li>\n",
      "  <li>Name: Jai, Email: jai87@gmail.com</li>\n",
      "</ul>\n"
     ]
    }
   ],
   "source": [
    "# Escribe aquí el código para la tarea .\n",
    "prompt = f\"\"\"\n",
    "Convert the following JSON data to HTML format:\n",
    "\n",
    "{json.dumps(data_json, indent=2)}\n",
    "\"\"\"\n",
    "\n",
    "html_output = get_chat_completion(prompt)\n",
    "print(html_output)"
   ]
  },
  {
   "cell_type": "markdown",
   "metadata": {
    "nteract": {
     "transient": {
      "deleting": false
     }
    }
   },
   "source": [
    "#### Tarea para Estudiantes:\n",
    "Revisión ortográfica y gramatical del siguiente texto.\n",
    "\n",
    "Para indicarle al modelo LLM que deseas que revise tu texto, instruye al modelo para que 'revise' o 'revise y corrija'."
   ]
  },
  {
   "cell_type": "code",
   "execution_count": 34,
   "metadata": {
    "gather": {
     "logged": 1685084954682
    },
    "jupyter": {
     "outputs_hidden": false,
     "source_hidden": false
    },
    "nteract": {
     "transient": {
      "deleting": false
     }
    }
   },
   "outputs": [],
   "source": [
    "check_text = [ \n",
    "  \"Alongside the main Emblem blue, the five other colors use in the branding of the 2020 Games is : Kurenai red,   Ai blue,   Sakula pink,   Fuji purple, and   Matsuba green.\",\n",
    "  \"The competition have three round: heats, semifinals, and a final.\"\n",
    "]"
   ]
  },
  {
   "cell_type": "code",
   "execution_count": 35,
   "metadata": {
    "jupyter": {
     "outputs_hidden": false,
     "source_hidden": false
    },
    "nteract": {
     "transient": {
      "deleting": false
     }
    }
   },
   "outputs": [
    {
     "name": "stdout",
     "output_type": "stream",
     "text": [
      "Alongside the main emblem blue, the five other colors used in the branding of the 2020 Games are: Kurenai red, Ai blue, Sakura pink, Fuji purple, and Matsuba green.\n",
      "The competition has three rounds: heats, semifinals, and a final.\n"
     ]
    }
   ],
   "source": [
    "# Escribe aquí el código para la tarea .\n",
    "\n",
    "def review_and_correct_text(text_list):\n",
    "    corrected_texts = []\n",
    "    for text in text_list:\n",
    "        prompt = f\"Review and correct the following text:\\n\\n{text}\"\n",
    "        corrected_text = get_chat_completion(prompt)\n",
    "        corrected_texts.append(corrected_text)\n",
    "    return corrected_texts\n",
    "\n",
    "# Review and correct the check_text\n",
    "corrected_texts = review_and_correct_text(check_text)\n",
    "for corrected_text in corrected_texts:\n",
    "    print(corrected_text)"
   ]
  },
  {
   "cell_type": "markdown",
   "metadata": {
    "nteract": {
     "transient": {
      "deleting": false
     }
    }
   },
   "source": [
    "#### Táctica 5: Ampliación: personaliza la respuesta automática"
   ]
  },
  {
   "cell_type": "markdown",
   "metadata": {
    "nteract": {
     "transient": {
      "deleting": false
     }
    }
   },
   "source": [
    "#### Tarea para Estudiantes:\n",
    "Personaliza la respuesta automática al siguiente correo electrónico de un cliente.\n",
    "\n",
    "El cliente tuvo un problema al comprar un boleto para los Juegos Olímpicos."
   ]
  },
  {
   "cell_type": "code",
   "execution_count": 36,
   "metadata": {
    "gather": {
     "logged": 1685463156048
    },
    "jupyter": {
     "outputs_hidden": false,
     "source_hidden": false
    },
    "nteract": {
     "transient": {
      "deleting": false
     }
    }
   },
   "outputs": [],
   "source": [
    "# given the sentiment from the tactic on \"inferring\",\n",
    "# and the original customer message, customize the email\n",
    "sentiment = \"negative\"\n",
    "\n",
    "# review for a ticket transaction\n",
    "review = f\"\"\"\n",
    "I bought the ticket of \"Men's 100 metre freestyle swimming\" game last week.\\\n",
    "The transaction went through successfully. However, I still have not received the ticket.\\\n",
    "Over one week has passed.\\\n",
    "\"\"\""
   ]
  },
  {
   "cell_type": "code",
   "execution_count": 37,
   "metadata": {
    "jupyter": {
     "outputs_hidden": false,
     "source_hidden": false
    },
    "nteract": {
     "transient": {
      "deleting": false
     }
    }
   },
   "outputs": [
    {
     "name": "stdout",
     "output_type": "stream",
     "text": [
      "Dear [Customer],\n",
      "\n",
      "Thank you for contacting us regarding your purchase of the \"Men's 100 metre freestyle swimming\" game ticket. We apologize for any inconvenience caused by the delay in receiving your ticket.\n",
      "\n",
      "To help resolve this issue, we kindly request that you provide us with your order number and any other relevant details so we can investigate further. Once we have received this information, we will do our best to ensure that your ticket is sent to you as soon as possible.\n",
      "\n",
      "Again, we apologize for any inconvenience this has caused and appreciate your patience while we work to resolve this matter.\n",
      "\n",
      "Best regards,\n",
      "[Your Name]\n"
     ]
    }
   ],
   "source": [
    "# Escribe aquí el código para la tarea .\n",
    "messages =  [  \n",
    "{'role':'system', 'content':'You are friendly email assistant helping to solve customer issues.'},  \n",
    "{'role':'user', 'content':f\"Review and reply the following email\\n\\n{review} which has sentiment {sentiment}\"}]\n",
    "response = get_completion_from_messages(messages, temperature=0.6)\n",
    "print(response)"
   ]
  },
  {
   "cell_type": "markdown",
   "metadata": {
    "nteract": {
     "transient": {
      "deleting": false
     }
    }
   },
   "source": [
    "#### Táctica 6: Chatbot: personalizar conversaciones para tareas o comportamientos específicos"
   ]
  },
  {
   "cell_type": "markdown",
   "metadata": {
    "nteract": {
     "transient": {
      "deleting": false
     }
    }
   },
   "source": [
    "#### Tarea para Estudiantes:\n",
    "Crear una conversación con el chatbot para saber dónde se celebraron los Juegos Olímpicos de Verano de 2020."
   ]
  },
  {
   "cell_type": "code",
   "execution_count": 38,
   "metadata": {
    "jupyter": {
     "outputs_hidden": false,
     "source_hidden": false
    },
    "nteract": {
     "transient": {
      "deleting": false
     }
    }
   },
   "outputs": [
    {
     "name": "stdout",
     "output_type": "stream",
     "text": [
      "The 2020 Summer Olympics were scheduled to take place in Tokyo, Japan, but were postponed to 2021 due to the COVID-19 pandemic.\n"
     ]
    }
   ],
   "source": [
    "# Escribe aquí el código para la tarea .\n",
    "prompt = f\"\"\"\n",
    "Where did the 2020 Summer Olympics take place?\"\n",
    "\"\"\"\n",
    "\n",
    "# Use the get_chat_completion function to get the transformed message\n",
    "business_letter = get_chat_completion(prompt)\n",
    "print(business_letter)"
   ]
  },
  {
   "cell_type": "markdown",
   "metadata": {
    "nteract": {
     "transient": {
      "deleting": false
     }
    }
   },
   "source": [
    "### 2.2 Dale tiempo al modelo para \"pensar\""
   ]
  },
  {
   "cell_type": "markdown",
   "metadata": {
    "nteract": {
     "transient": {
      "deleting": false
     }
    }
   },
   "source": [
    "#### Táctica 1: Especificar los pasos necesarios para completar una tarea\n",
    "A veces puedes ayudar al modelo a \"ralentizarse\" y ofrecer respuestas más robustas y detalladas especificando los pasos que debe seguir.\n",
    "\n",
    "Pidamos la salida en varios formatos especificados."
   ]
  },
  {
   "cell_type": "code",
   "execution_count": 1,
   "metadata": {
    "gather": {
     "logged": 1685051679218
    },
    "jupyter": {
     "outputs_hidden": false,
     "source_hidden": false
    },
    "nteract": {
     "transient": {
      "deleting": false
     }
    }
   },
   "outputs": [
    {
     "ename": "NameError",
     "evalue": "name 'text' is not defined",
     "output_type": "error",
     "traceback": [
      "\u001b[0;31m---------------------------------------------------------------------------\u001b[0m",
      "\u001b[0;31mNameError\u001b[0m                                 Traceback (most recent call last)",
      "Cell \u001b[0;32mIn[1], line 18\u001b[0m\n\u001b[1;32m      1\u001b[0m prompt \u001b[38;5;241m=\u001b[39m \u001b[38;5;124mf\u001b[39m\u001b[38;5;124m\"\"\"\u001b[39m\n\u001b[1;32m      2\u001b[0m \u001b[38;5;124mYour task is to help a journalist summarize information from the article for publication.\u001b[39m\n\u001b[1;32m      3\u001b[0m \n\u001b[1;32m      4\u001b[0m \u001b[38;5;124mWrite a title based on the information provided in the context delimited by triple backticks. \u001b[39m\n\u001b[1;32m      5\u001b[0m \u001b[38;5;124mThe title should be short, catchy, and reflective of the article\u001b[39m\u001b[38;5;124m'\u001b[39m\u001b[38;5;124ms narrative.\u001b[39m\n\u001b[1;32m      6\u001b[0m \n\u001b[1;32m      7\u001b[0m \u001b[38;5;124mAfter the title, generate five keywords from the context.\u001b[39m\n\u001b[1;32m      8\u001b[0m \n\u001b[1;32m      9\u001b[0m \u001b[38;5;124mAfter the keywords, include a table to organize the information. \u001b[39m\n\u001b[1;32m     10\u001b[0m \u001b[38;5;124mThe table should have two columns. In the first column is the title.\u001b[39m\n\u001b[1;32m     11\u001b[0m \u001b[38;5;124mIn the second column include the keywords as a list.\u001b[39m\n\u001b[1;32m     12\u001b[0m \n\u001b[1;32m     13\u001b[0m \u001b[38;5;124mGive the table the title \u001b[39m\u001b[38;5;124m'\u001b[39m\u001b[38;5;124mArticle Publishing Information\u001b[39m\u001b[38;5;124m'\u001b[39m\u001b[38;5;124m.\u001b[39m\n\u001b[1;32m     14\u001b[0m \n\u001b[1;32m     15\u001b[0m \u001b[38;5;124mFormat everything as HTML that can be used in a website.\u001b[39m\n\u001b[1;32m     16\u001b[0m \u001b[38;5;124mPlace the title in a <div> element.\u001b[39m\n\u001b[1;32m     17\u001b[0m \n\u001b[0;32m---> 18\u001b[0m \u001b[38;5;124mContext: ```\u001b[39m\u001b[38;5;132;01m{\u001b[39;00m\u001b[43mtext\u001b[49m\u001b[38;5;132;01m}\u001b[39;00m\n\u001b[1;32m     19\u001b[0m \n\u001b[1;32m     20\u001b[0m \u001b[38;5;124m\"\"\"\u001b[39m \n\u001b[1;32m     22\u001b[0m get_chat_completion(prompt)\n",
      "\u001b[0;31mNameError\u001b[0m: name 'text' is not defined"
     ]
    }
   ],
   "source": [
    "prompt = f\"\"\"\n",
    "Your task is to help a journalist summarize information from the article for publication.\n",
    "\n",
    "Write a title based on the information provided in the context delimited by triple backticks. \n",
    "The title should be short, catchy, and reflective of the article's narrative.\n",
    "\n",
    "After the title, generate five keywords from the context.\n",
    "\n",
    "After the keywords, include a table to organize the information. \n",
    "The table should have two columns. In the first column is the title.\n",
    "In the second column include the keywords as a list.\n",
    "\n",
    "Give the table the title 'Article Publishing Information'.\n",
    "\n",
    "Format everything as HTML that can be used in a website.\n",
    "Place the title in a <div> element.\n",
    "\n",
    "Context: ```{text}\n",
    "\n",
    "\"\"\" \n",
    "\n",
    "get_chat_completion(prompt)"
   ]
  },
  {
   "cell_type": "markdown",
   "metadata": {},
   "source": []
  },
  {
   "cell_type": "markdown",
   "metadata": {
    "nteract": {
     "transient": {
      "deleting": false
     }
    }
   },
   "source": [
    "#### Táctica 2: Instruir al modelo para que desarrolle su propia solución\n",
    "\n",
    "Existen dos métodos principales que demostraremos en esta sección para lograr que el modelo resuelva un problema en lugar de apresurarse a una conclusión: cadena de pensamiento (chain-of-thought) y encadenamiento (chaining). Estas estrategias pueden llevar a una mayor precisión, detalle y la capacidad de resolver desafíos complejos.\n",
    "\n",
    "\n",
    "2.1 - Prompting de cadena de pensamiento (Chain-of-thought)\n",
    "- Pedir al modelo que razone\n",
    "- Ejemplo de un solo disparo (one-shot)\n",
    "- Razonamiento del chatbot\n",
    "\n",
    "2.2 - Encadenamiento (Chaining)\n",
    "\n",
    "Continuemos trabajando con el conjunto de datos de los Juegos Olímpicos."
   ]
  },
  {
   "cell_type": "markdown",
   "metadata": {
    "nteract": {
     "transient": {
      "deleting": false
     }
    }
   },
   "source": [
    "#### 2.2.1 Prompting de Cadena de Pensamiento (Chain-of-Thought Prompting)\n",
    "\n",
    "Hagamos un poco de matemáticas. Los modelos de GPT ocasionalmente no resuelven muy bien problemas matemáticos directos, así que guiemos al modelo a través del problema.\n",
    "\n",
    "Descomponemos las tareas en piezas más pequeñas.\n",
    "\n",
    "Lee más sobre los métodos y la investigación en el documento técnico: https://github.com/openai/openai-cookbook/blob/main/techniques_to_improve_reliability.md"
   ]
  },
  {
   "cell_type": "markdown",
   "metadata": {
    "nteract": {
     "transient": {
      "deleting": false
     }
    }
   },
   "source": [
    "#### Táctica 1: Puedes comenzar pidiéndole específicamente al modelo que piense paso a paso."
   ]
  },
  {
   "cell_type": "code",
   "execution_count": 40,
   "metadata": {
    "gather": {
     "logged": 1685051978623
    },
    "jupyter": {
     "outputs_hidden": false,
     "source_hidden": false
    },
    "nteract": {
     "transient": {
      "deleting": false
     }
    }
   },
   "outputs": [
    {
     "data": {
      "text/plain": [
       "'Step 1: Identify the Olympic games held at Sydney\\nThe Olympic games held at Sydney were the 2000 Summer Olympics.\\n\\nStep 2: Identify the most decorated individual athlete\\nTo identify the most decorated individual athlete, we need to look at the medal count of all athletes who participated in the 2000 Summer Olympics. According to the official website of the International Olympic Committee (IOC), the medal count for the 2000 Summer Olympics can be found here: https://www.olympic.org/sydney-2000/medal-count.\\n\\nStep 3: Determine the athlete with the maximum medals\\nAfter reviewing the medal count, the athlete with the most medals at the 2000 Summer Olympics was Michael Phelps, who won 6 gold medals and 2 bronze medals in swimming events.\\n\\nTherefore, the ANSWER is: Michael Phelps.'"
      ]
     },
     "execution_count": 40,
     "metadata": {},
     "output_type": "execute_result"
    }
   ],
   "source": [
    "text = f\"\"\"\n",
    "    The 2020 Summer Olympics, officially the Games of the XXXII Olympiad and also known as Tokyo 2020, was an international multi-sport event held from 23 July to 8 August 2021 in Tokyo, Japan, with some preliminary events that began on 21 July 2021. Tokyo was selected as the host city during the 125th IOC Session in Buenos Aires, Argentina, on 7 September 2013.Originally scheduled to take place from 24 July to 9 August 2020, the event was postponed to 2021 on 24 March 2020 due to the global COVID-19 pandemic, the first such instance in the history of the Olympic Games (previous games had been cancelled but not rescheduled). However, the event retained the Tokyo 2020 branding for marketing purposes. It was largely held behind closed doors with no public spectators permitted due to the declaration of a state of emergency in the Greater Tokyo Area in response to the pandemic, the first and only Olympic Games to be held without official spectators. The Games were the most expensive ever, with total spending of over $20 billion.The Games were the fourth Olympic Games to be held in Japan, following the 1964 Summer Olympics (Tokyo), 1972 Winter Olympics (Sapporo), and 1998 Winter Olympics (Nagano). Tokyo became the first city in Asia to hold the Summer Olympic Games twice. The 2020 Games were the second of three consecutive Olympics to be held in East Asia, following the 2018 Winter Olympics in Pyeongchang, South Korea and preceding the 2022 Winter Olympics in Beijing, China. Due to the one-year postponement, Tokyo 2020 was the first and only Olympic Games to have been held in an odd-numbered year and the first Summer Olympics since 1900 to be held in a non-leap year.\\nNew events were introduced in existing sports, including 3x3 basketball, freestyle BMX and mixed gender team events in a number of existing sports, as well as the return of madison cycling for men and an introduction of the same event for women. New IOC policies also allowed the host organizing committee to add new sports to the Olympic program for just one Games. The disciplines added by the Japanese Olympic Committee were baseball and softball, karate, sport climbing, surfing and skateboarding, the last four of which made their Olympic debuts, and the last three of which will remain on the Olympic program.The United States topped the medal count by both total golds (39) and total medals (113), with China finishing second by both respects (38 and 89). Host nation Japan finished third, setting a record for the most gold medals and total medals ever won by their delegation at an Olympic Games with 27 and 58. Great Britain finished fourth, with a total of 22 gold and 64 medals. The Russian delegation competing as the ROC finished fifth with 20 gold medals and third in the overall medal count, with 71 medals. Bermuda, the Philippines and Qatar won their first-ever Olympic gold medals. Burkina Faso, San Marino and Turkmenistan also won their first-ever Olympic medals.'\n",
    "\"\"\"\n",
    "\n",
    "# From Azure documentation\n",
    "prompt = \"Who was the most decorated (maximum medals) individual athlete in the Olympic games that were held at Sydney? Take a step-by-step approach in your response, cite sources and give reasoning before sharing final answer in the below format: ANSWER is: <name>\"\n",
    "get_chat_completion(prompt)"
   ]
  },
  {
   "cell_type": "code",
   "execution_count": 41,
   "metadata": {
    "jupyter": {
     "outputs_hidden": false,
     "source_hidden": false
    },
    "nteract": {
     "transient": {
      "deleting": false
     }
    }
   },
   "outputs": [
    {
     "data": {
      "text/plain": [
       "'To solve this problem, we need to identify the top two countries who won the most gold medals in the 2020 Tokyo Olympics. According to the context, the United States topped the medal count by both total golds (39) and total medals (113), with China finishing second by both respects (38 and 89). Therefore, the top two countries are the United States and China.\\n\\nNext, we need to determine the time zone difference between the United States and China. The United States has multiple time zones, but we can use the Eastern Time Zone as a reference since it is the most populous. The Eastern Time Zone is 13 hours behind China Standard Time (CST). Therefore, the largest time zone difference between the United States and China is 13 hours.\\n\\nTherefore, the answer to the problem is that the largest time zone difference is 13 hours between the top two countries who won the most gold medals in the 2020 Tokyo Olympics, which are the United States and China'"
      ]
     },
     "execution_count": 41,
     "metadata": {},
     "output_type": "execute_result"
    }
   ],
   "source": [
    "# Another example\n",
    "prompt = f\"\"\"\n",
    "What is the largest time zone difference is between the top two countries who \n",
    "won the most gold medals in the 2020 Tokyo olympics?\n",
    "\n",
    "Use the context below and think aloud as you solve the problem, step-by-step.\n",
    "\n",
    "Context: {text}\n",
    "\"\"\"\n",
    "get_chat_completion(prompt)"
   ]
  },
  {
   "cell_type": "markdown",
   "metadata": {
    "nteract": {
     "transient": {
      "deleting": false
     }
    }
   },
   "source": [
    "#### Táctica 2: Ejemplo de un solo disparo (One-shot)\n",
    "Otra táctica común es proporcionar un ejemplo de una consulta y una respuesta ideal. El modelo aprenderá de ese ejemplo y aplicará los patrones a una nueva pregunta."
   ]
  },
  {
   "cell_type": "code",
   "execution_count": 42,
   "metadata": {
    "gather": {
     "logged": 1685053144682
    },
    "jupyter": {
     "outputs_hidden": false,
     "source_hidden": false
    },
    "nteract": {
     "transient": {
      "deleting": false
     }
    }
   },
   "outputs": [
    {
     "data": {
      "text/plain": [
       "'The United States has 74 medals that are not gold medals (113 total medals - 39 gold medals). \\n\\nGreat Britain has 42 medals that are not gold medals (64 total medals - 22 gold medals). \\n\\nTherefore, the United States has 32 more non-gold medals than Great Britain (74 - 42 = 32).'"
      ]
     },
     "execution_count": 42,
     "metadata": {},
     "output_type": "execute_result"
    }
   ],
   "source": [
    "# Notice how this response may not be ideal, or the most accurate.\n",
    "prompt = f\"\"\"\n",
    "    The United States has 113 total medals, 39 of which are gold medals. \n",
    "    \n",
    "    Great Britain has 64 medals and 22 gold medals. \n",
    "    \n",
    "    How many more silver and bronze medals does the United States have over Great Britain?\n",
    "\"\"\"\n",
    "\n",
    "get_chat_completion(prompt)"
   ]
  },
  {
   "cell_type": "code",
   "execution_count": 43,
   "metadata": {
    "jupyter": {
     "outputs_hidden": false,
     "source_hidden": false
    },
    "nteract": {
     "transient": {
      "deleting": false
     }
    }
   },
   "outputs": [
    {
     "data": {
      "text/plain": [
       "'[Step 1] - There are three types of medals: gold, silver, and bronze\\n[Step 2] - We know the gold and total counts of medals, so the number of silver and bronze medals is the difference between the gold (38) and total (89) counts. \\n            89-38=51, so there are 51 silver and bronze medals combined. The answer is 51.'"
      ]
     },
     "execution_count": 43,
     "metadata": {},
     "output_type": "execute_result"
    }
   ],
   "source": [
    "# Give the model a one-shot example to solve the question more thoroughly\n",
    "\n",
    "prompt = f\"\"\"\n",
    "Question: The United States has 113 total medals, 39 of which are gold medals. How many medals are silver or bronze?\n",
    "Answer:\n",
    "[Step 1] - There are three types of medals: gold, silver, and bronze\n",
    "[Step 2] - We know the gold and total counts of medals, so the number of silver and bronze medals is the difference between the gold (39) and total (113) counts. \n",
    "            113-39=74, so there are 74 silver and bronze medals combined. The answer is 74.\n",
    "\n",
    "===\n",
    "\n",
    "Answer the following question using similar steps above.\n",
    "\n",
    "Question: China has 89 total medals, 38 of which are gold medals. How many silver and bronze medals do they have?\n",
    "Answer:\n",
    "\"\"\"\n",
    "\n",
    "get_chat_completion(prompt)"
   ]
  },
  {
   "cell_type": "markdown",
   "metadata": {
    "nteract": {
     "transient": {
      "deleting": false
     }
    }
   },
   "source": [
    "#### Táctica 3: Razonamiento de cadena de pensamiento del chatbot (chain-of-thought reasoning)\n",
    "Puedes incorporar lógica utilizando variables para que el chatbot pueda demostrar de manera dinámica formas específicas de pensar sobre un problema.\n",
    "\n",
    "**Para ingresar la información, aparecerá un cuadro de texto en la parte superior de la pantalla. Deberías ver una ventana emergente. Escribe 'quit' si quieres salir.**"
   ]
  },
  {
   "cell_type": "code",
   "execution_count": null,
   "metadata": {
    "jupyter": {
     "outputs_hidden": false,
     "source_hidden": false
    },
    "nteract": {
     "transient": {
      "deleting": false
     }
    }
   },
   "outputs": [
    {
     "name": "stdout",
     "output_type": "stream",
     "text": [
      "1\n",
      "\n",
      "Hello! I am a decision bot. What is the problem, scenario, or question you need help with?\n",
      "\n"
     ]
    }
   ],
   "source": [
    "# Ask the bot to help you make a decision such as deciding whether to take a job or choose between restaurants.\n",
    "# If the model does not immediately respond to your query, wait 1-5 seconds and retype it.\n",
    "# If it is not allowing you to give an input, restart the kernel in the navigation bar.\n",
    "# Type \"quit\" to end the session\n",
    "\n",
    "context = '''\n",
    "        You are a decision bot. Your job is to help come to decision by asking a series of questions one at a time and coming to a reasonable decision based on the information provided.\n",
    "\n",
    "        You will use the following format to help create the series of questions.\n",
    "\n",
    "        Template: \n",
    "        [Problem/Scenario/Question]: [Provide a brief description of the problem, scenario, or question.]\n",
    "\n",
    "        Chain of thought:\n",
    "\n",
    "        [Step 1]: Identify the [key element/variable] in the [problem/scenario/question].\n",
    "        [Step 2]: Understand the [relationship/connection] between [element A] and [element B].\n",
    "        [Step 3]: [Analyze/Evaluate/Consider] the [context/implication] of the [relationship/connection] between [element A] and [element B].\n",
    "        [Step 4]: [Conclude/Decide/Determine] the [outcome/solution] based on the [analysis/evaluation/consideration] of [element A], [element B], and their [relationship/connection].\n",
    "        [Answer/Conclusion/Recommendation]: [Provide a coherent and logical response based on the chain of thought.]\n",
    "\n",
    "        You will guide the user though a series of questions one at a time. The first question is broad, and they subsequent questions become more specific. \n",
    "\n",
    "        Begin by introducing yourself and asking the first question (step 1) only and nothing else, in simple and easy way.\n",
    "        '''\n",
    "\n",
    "conversation=[{\"role\": \"system\", \"content\": context}]\n",
    "\n",
    "while(True):\n",
    "    print(len(conversation))\n",
    "    if len(conversation) == 1:\n",
    "        response = get_completion_from_messages(conversation)\n",
    "        conversation.append({\"role\": \"assistant\", \"content\": response})\n",
    "        print(\"\\n\" + response + \"\\n\")\n",
    "    \n",
    "    user_input = input('Enter your response: ')\n",
    "    if user_input.lower() == \"quit\":\n",
    "        break \n",
    "    conversation.append({\"role\": \"user\", \"content\": user_input})\n",
    "    \n",
    "    response = get_completion_from_messages(conversation)\n",
    "    conversation.append({\"role\": \"assistant\", \"content\": response})\n",
    "    print(\"\\n\" + response + \"\\n\")\n"
   ]
  },
  {
   "cell_type": "markdown",
   "metadata": {
    "nteract": {
     "transient": {
      "deleting": false
     }
    }
   },
   "source": [
    "#### 2.2.2 - Encadenamiento / Chaining\n",
    "Similar a algunos ejemplos anteriores, puedes usar las salidas del modelo de consultas anteriores en otras consultas. Más adelante en el Hack te mostraremos cómo hacer esto a escala."
   ]
  },
  {
   "cell_type": "code",
   "execution_count": null,
   "metadata": {
    "gather": {
     "logged": 1685051679330
    },
    "jupyter": {
     "outputs_hidden": false,
     "source_hidden": false
    },
    "nteract": {
     "transient": {
      "deleting": false
     }
    }
   },
   "outputs": [],
   "source": [
    "# Extract medal counts for each country from the news article\n",
    "# Write an article about the summarized information\n",
    "# Provide a title for the summary\n",
    "\n",
    "text = f\"\"\"\n",
    "    The 2020 Summer Olympics, officially the Games of the XXXII Olympiad and also known as Tokyo 2020, was an international multi-sport event held from 23 July to 8 August 2021 in Tokyo, Japan, with some preliminary events that began on 21 July 2021. Tokyo was selected as the host city during the 125th IOC Session in Buenos Aires, Argentina, on 7 September 2013.Originally scheduled to take place from 24 July to 9 August 2020, the event was postponed to 2021 on 24 March 2020 due to the global COVID-19 pandemic, the first such instance in the history of the Olympic Games (previous games had been cancelled but not rescheduled). However, the event retained the Tokyo 2020 branding for marketing purposes. It was largely held behind closed doors with no public spectators permitted due to the declaration of a state of emergency in the Greater Tokyo Area in response to the pandemic, the first and only Olympic Games to be held without official spectators. The Games were the most expensive ever, with total spending of over $20 billion.The Games were the fourth Olympic Games to be held in Japan, following the 1964 Summer Olympics (Tokyo), 1972 Winter Olympics (Sapporo), and 1998 Winter Olympics (Nagano). Tokyo became the first city in Asia to hold the Summer Olympic Games twice. The 2020 Games were the second of three consecutive Olympics to be held in East Asia, following the 2018 Winter Olympics in Pyeongchang, South Korea and preceding the 2022 Winter Olympics in Beijing, China. Due to the one-year postponement, Tokyo 2020 was the first and only Olympic Games to have been held in an odd-numbered year and the first Summer Olympics since 1900 to be held in a non-leap year.\\nNew events were introduced in existing sports, including 3x3 basketball, freestyle BMX and mixed gender team events in a number of existing sports, as well as the return of madison cycling for men and an introduction of the same event for women. New IOC policies also allowed the host organizing committee to add new sports to the Olympic program for just one Games. The disciplines added by the Japanese Olympic Committee were baseball and softball, karate, sport climbing, surfing and skateboarding, the last four of which made their Olympic debuts, and the last three of which will remain on the Olympic program.The United States topped the medal count by both total golds (39) and total medals (113), with China finishing second by both respects (38 and 89). Host nation Japan finished third, setting a record for the most gold medals and total medals ever won by their delegation at an Olympic Games with 27 and 58. Great Britain finished fourth, with a total of 22 gold and 64 medals. The Russian delegation competing as the ROC finished fifth with 20 gold medals and third in the overall medal count, with 71 medals. Bermuda, the Philippines and Qatar won their first-ever Olympic gold medals. Burkina Faso, San Marino and Turkmenistan also won their first-ever Olympic medals.'\n",
    "\"\"\"\n",
    "\n",
    "prompt = f\"\"\"\n",
    "    Based on the context below, write a JSON object that contains the number of gold and total medals for each country.\n",
    "    Context: {text}\n",
    "\"\"\"\n",
    "num_medals_dict = get_chat_completion(prompt)\n",
    "\n",
    "prompt = f\"\"\"\n",
    "    Write a brief article about the winners and losers of the Olympics based on medal count:\n",
    "    {num_medals_dict}\n",
    "\"\"\"\n",
    "summary = get_chat_completion(prompt)\n",
    "print(summary)\n",
    "\n",
    "prompt = f\"\"\"\n",
    "    Give the summary a title in 5 words:\n",
    "    {summary}\n",
    "\"\"\"\n",
    "title = get_chat_completion(prompt)\n",
    "print(title)"
   ]
  },
  {
   "cell_type": "markdown",
   "metadata": {
    "nteract": {
     "transient": {
      "deleting": false
     }
    }
   },
   "source": [
    "#### Tarea para Estudiantes (Encadenamiento / Chaining):\n",
    "\n",
    "Tu tarea ahora es escribir código que determine el país que ganó la mayor cantidad de medallas de plata y bronce combinadas.\n",
    "\n",
    "Podemos ver que el modelo tiene un rendimiento deficiente al responder la pregunta directamente."
   ]
  },
  {
   "cell_type": "code",
   "execution_count": null,
   "metadata": {
    "gather": {
     "logged": 1685053948700
    },
    "jupyter": {
     "outputs_hidden": false,
     "source_hidden": false
    },
    "nteract": {
     "transient": {
      "deleting": false
     }
    }
   },
   "outputs": [],
   "source": [
    "prompt = f\"\"\"\n",
    "    Based on the context, which country had the most silver and bronze medals?\n",
    "    Context: {text}\n",
    "\"\"\"\n",
    "\n",
    "get_chat_completion(prompt)"
   ]
  },
  {
   "cell_type": "markdown",
   "metadata": {
    "nteract": {
     "transient": {
      "deleting": false
     }
    }
   },
   "source": [
    "Escribe prompts en la celda a continuación que ayudarán al modelo a responder la pregunta desglosando las tareas en diferentes pasos. Asegúrate de que responda solo con la información que se le proporcionó. Este concepto de fundamentación se presentará con más detalle en el Reto 3.\n",
    "\n",
    "Deberías poder lograr que el modelo responda la pregunta en 2-3 pasos."
   ]
  },
  {
   "cell_type": "code",
   "execution_count": null,
   "metadata": {
    "jupyter": {
     "outputs_hidden": false,
     "source_hidden": false
    },
    "nteract": {
     "transient": {
      "deleting": false
     }
    }
   },
   "outputs": [],
   "source": [
    "# Escribe aquí el código para la tarea ."
   ]
  },
  {
   "cell_type": "markdown",
   "metadata": {},
   "source": [
    "## Conclusión\n",
    "\n",
    "En este primer desafío, cubrimos cómo interactuar con Azure OpenAI para diferentes objetivos. Esperamos que hayas podido ver la versatilidad dinámica de los modelos y cómo pueden usarse para resolver una variedad de problemas utilizando diferentes técnicas.\n",
    "\n",
    "Le dimos a la API piezas cortas de texto usando variables fijas. En el próximo conjunto de desafíos, verás cómo usar la API con conjuntos de datos más grandes."
   ]
  }
 ],
 "metadata": {
  "kernel_info": {
   "name": "python38-azureml"
  },
  "kernelspec": {
   "display_name": "Python 3",
   "language": "python",
   "name": "python3"
  },
  "language_info": {
   "codemirror_mode": {
    "name": "ipython",
    "version": 3
   },
   "file_extension": ".py",
   "mimetype": "text/x-python",
   "name": "python",
   "nbconvert_exporter": "python",
   "pygments_lexer": "ipython3",
   "version": "3.12.1"
  },
  "microsoft": {
   "host": {
    "AzureML": {
     "notebookHasBeenCompleted": true
    }
   },
   "ms_spell_check": {
    "ms_spell_check_language": "en"
   }
  },
  "nteract": {
   "version": "nteract-front-end@1.0.0"
  }
 },
 "nbformat": 4,
 "nbformat_minor": 2
}
